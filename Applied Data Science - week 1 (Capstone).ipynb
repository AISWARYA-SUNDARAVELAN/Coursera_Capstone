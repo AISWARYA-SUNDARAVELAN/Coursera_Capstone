{
 "cells": [
  {
   "cell_type": "markdown",
   "metadata": {},
   "source": [
    "##  Capstone Project - The Battle of Neighborhoods (Week 1)"
   ]
  },
  {
   "cell_type": "markdown",
   "metadata": {},
   "source": [
    "#### INTRODUCTION/BUISNESS PROBLEM"
   ]
  },
  {
   "cell_type": "markdown",
   "metadata": {},
   "source": [
    "Each and evey city has it own way of creation. Some cities are developed, some are developing and some are at the inital stage.The buildings,population, various restaurants, transportation,various shops,various cusines,demographics,environments and culture are different from one another.I am going to analyse the cusine around the neighborhoods of city in order to determine that how popular those restarants are. They can be compared in respect to the place where they can eat,live and how diverse are both the places. Mostly, I will be taking environments,restaurants,ratings,people reviews/tips about the place and dishes  while comparing. The target audience will the food consumers who prefers particular cusine more."
   ]
  },
  {
   "cell_type": "markdown",
   "metadata": {},
   "source": [
    "#### DATA SECTION"
   ]
  },
  {
   "cell_type": "markdown",
   "metadata": {},
   "source": [
    "*This section deal with the primary data set which we will be using in the project.*\n",
    "\n",
    "The data which we will using for the project is that **New York Data Set**.Both the data sets cosists of 3 columns which we will be using they are: \n",
    "1. Locations \n",
    "2. Neighborhoods \n",
    "4. Latitudes \n",
    "5. Longitudes \n",
    "6. Boroughs\n",
    "\n",
    "Foursquare API will be used for the analyzation phrase. It is used to analyze the nearby restaurants & cusines of the neighborhoodsand calculate the frequency of people been to these places inorder to see how popular and important these places are.\n",
    "\n",
    "Data will be well sorted and cleaned for the processing and methodology pharse.\n",
    "\n",
    "Follwing is the link of the dataset which we will be using in this project: https://cocl.us/new_york_dataset."
   ]
  },
  {
   "cell_type": "code",
   "execution_count": null,
   "metadata": {},
   "outputs": [],
   "source": []
  }
 ],
 "metadata": {
  "kernelspec": {
   "display_name": "Python 3",
   "language": "python",
   "name": "python3"
  },
  "language_info": {
   "codemirror_mode": {
    "name": "ipython",
    "version": 3
   },
   "file_extension": ".py",
   "mimetype": "text/x-python",
   "name": "python",
   "nbconvert_exporter": "python",
   "pygments_lexer": "ipython3",
   "version": "3.7.6"
  }
 },
 "nbformat": 4,
 "nbformat_minor": 4
}
