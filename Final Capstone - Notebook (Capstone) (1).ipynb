{
 "cells": [
  {
   "cell_type": "markdown",
   "metadata": {},
   "source": [
    "##  Capstone Project - The Battle of Neighborhoods (Week 1)"
   ]
  },
  {
   "cell_type": "markdown",
   "metadata": {},
   "source": [
    "#### INTRODUCTION/BUISNESS PROBLEM"
   ]
  },
  {
   "cell_type": "markdown",
   "metadata": {},
   "source": [
    "Each and evey city has it own way of creation. Some cities are developed, some are developing and some are at the inital stage.The buildings,population, various restaurants, transportation,various shops,various cusines,demographics,environments and culture are different from one another.I am going to analyse the cusine around the neighborhoods of city in order to determine that how popular those restarants are. They can be compared in respect to the place where they can eat,live and how diverse are both the places. Mostly, I will be taking environments,restaurants,ratings,people reviews/tips about the place and dishes  while comparing. The target audience will the food consumers who prefers particular cusine more."
   ]
  },
  {
   "cell_type": "markdown",
   "metadata": {},
   "source": [
    "#### DATA SECTION"
   ]
  },
  {
   "cell_type": "markdown",
   "metadata": {},
   "source": [
    "*This section deal with the primary data set which we will be using in the project.*\n",
    "\n",
    "The data which we will using for the project is that **New York Data Set**.Both the data sets cosists of 3 columns which we will be using they are: \n",
    "1. Locations \n",
    "2. Neighborhoods \n",
    "4. Latitudes \n",
    "5. Longitudes \n",
    "6. Boroughs\n",
    "\n",
    "Foursquare API will be used for the analyzation phrase. It is used to analyze the nearby restaurants & cusines of the neighborhoodsand calculate the frequency of people been to these places inorder to see how popular and important these places are.\n",
    "\n",
    "Data will be well sorted and cleaned for the processing and methodology pharse.\n",
    "\n",
    "Follwing is the link of the dataset which we will be using in this project: https://cocl.us/new_york_dataset."
   ]
  },
  {
   "cell_type": "markdown",
   "metadata": {},
   "source": [
    "#### STEP 1: Importing the required Libraries "
   ]
  },
  {
   "cell_type": "code",
   "execution_count": 13,
   "metadata": {},
   "outputs": [
    {
     "name": "stdout",
     "output_type": "stream",
     "text": [
      "Libraries imported.\n"
     ]
    }
   ],
   "source": [
    "import numpy as np \n",
    "\n",
    "import pandas as pd\n",
    "pd.set_option('display.max_columns', None)\n",
    "pd.set_option('display.max_rows', None)\n",
    "\n",
    "import requests # library to handle requests\n",
    "\n",
    "#from bs4 import BeautifulSoup\n",
    "import os\n",
    "\n",
    "#!conda install -c conda-forge folium=0.5.0 --yes\n",
    "import folium # map rendering library\n",
    "\n",
    "#!conda install -c conda-forge geopy --yes\n",
    "from geopy.geocoders import Nominatim # convert an address into latitude and longitude values\n",
    "import requests # library to handle requests\n",
    "\n",
    "# Matplotlib and associated plotting modules\n",
    "import matplotlib.pyplot as plt\n",
    "import matplotlib.cm as cm\n",
    "import matplotlib.colors as colors\n",
    "%matplotlib inline\n",
    "\n",
    "import seaborn as sns\n",
    "\n",
    "print('Libraries imported.')"
   ]
  },
  {
   "cell_type": "markdown",
   "metadata": {},
   "source": [
    "#### STEP 2: Defining Credentials"
   ]
  },
  {
   "cell_type": "code",
   "execution_count": 14,
   "metadata": {},
   "outputs": [],
   "source": [
    "# Define Foursquare Credentials and Version\n",
    "\n",
    "CLIENT_ID = 'ZM20T51V1CKOV1N1GMBB44OZ55BTGTDXSQOWB3MHEXTYHV0B' # Foursquare ID\n",
    "CLIENT_SECRET = 'UTTZFIVCADM4LTY2G3JAGADXM2ZZACW5HBLS5ZE4PSZCSRRZ' # Foursquare Secret\n",
    "VERSION = '20180605' # Foursquare API version"
   ]
  },
  {
   "cell_type": "markdown",
   "metadata": {},
   "source": [
    "#### STEP 3: Defining required functions "
   ]
  },
  {
   "cell_type": "code",
   "execution_count": 15,
   "metadata": {},
   "outputs": [],
   "source": [
    "def geo_loc(address):\n",
    "    # get geo location of address\n",
    "    geolocator = Nominatim(user_agent=\"foursquare_agent\")\n",
    "    location = geolocator.geocode(address)\n",
    "    latitude = location.latitude\n",
    "    longitude = location.longitude\n",
    "    return latitude,longitude"
   ]
  },
  {
   "cell_type": "code",
   "execution_count": 16,
   "metadata": {},
   "outputs": [],
   "source": [
    "def venue(lat,lng):\n",
    "    #set variables\n",
    "    radius=400\n",
    "    LIMIT=100\n",
    "    #url to fetch data from foursquare api\n",
    "    url = 'https://api.foursquare.com/v2/venues/explore?&client_id={}&client_secret={}&v={}&ll={},{}&radius={}&limit={}'.format(\n",
    "            CLIENT_ID, \n",
    "            CLIENT_SECRET, \n",
    "            VERSION, \n",
    "            lat, \n",
    "            lng, \n",
    "            radius, \n",
    "            LIMIT)\n",
    "    # get all the data\n",
    "    result_set = requests.get(url).json()\n",
    "    venue_data=result_set['response']['groups'][0]['items']\n",
    "    place_details=[]\n",
    "    for row in venue_data:\n",
    "        try:\n",
    "            place_id=row['venue']['id']\n",
    "            place_name=row['venue']['name']\n",
    "            place_category=row['venue']['categories'][0]['name']\n",
    "            place_details.append([place_id,place_name,place_category])\n",
    "        except KeyError:\n",
    "            pass\n",
    "    column_names=['ID','Name','Category']\n",
    "    df_places = pd.DataFrame(place_details,columns=column_names)\n",
    "    return df_places\n"
   ]
  },
  {
   "cell_type": "code",
   "execution_count": 17,
   "metadata": {},
   "outputs": [],
   "source": [
    "def venue_details(place_id):\n",
    "    #url to fetch data from foursquare api\n",
    "    url = 'https://api.foursquare.com/v2/venues/{}?&client_id={}&client_secret={}&v={}'.format(\n",
    "            place_id,\n",
    "            CLIENT_ID, \n",
    "            CLIENT_SECRET, \n",
    "            VERSION)\n",
    "    # get all the data\n",
    "    results = requests.get(url).json()\n",
    "    print(results)\n",
    "    venue_data=results['response']['venue']\n",
    "    place_details=[]\n",
    "    try:\n",
    "        place_id=venue_data['id']\n",
    "        place_name=venue_data['name']\n",
    "        place_likes=venue_data['likes']['count']\n",
    "        place_rating=venue_data['rating']\n",
    "        place_tips=venue_data['tips']['count']\n",
    "        place_details.append([place_id,place_name,place_likes,place_rating,place_tips])\n",
    "    except KeyError:\n",
    "        pass\n",
    "    column_names=['ID','Name','Likes','Rating','Tips']\n",
    "    df_ratings = pd.DataFrame(venue_details,columns=column_names)\n",
    "    return df_ratings"
   ]
  },
  {
   "cell_type": "code",
   "execution_count": 18,
   "metadata": {},
   "outputs": [],
   "source": [
    "def new_york_data():\n",
    "    url='https://cocl.us/new_york_dataset'\n",
    "    input_data=requests.get(url).json()\n",
    "    # all data is present in features label\n",
    "    features=input_data['features']\n",
    "    # define the dataframe columns\n",
    "    column_names = ['Borough', 'Neighborhood', 'Latitude', 'Longitude'] \n",
    "    # instantiate the dataframe\n",
    "    newyork_data = pd.DataFrame(columns=column_names)\n",
    "    for data in features:\n",
    "        borough = data['properties']['borough'] \n",
    "        neigh_name = data['properties']['name']\n",
    "        neigh_lat_lon = data['geometry']['coordinates']\n",
    "        neigh_lat = neigh_lat_lon[1]\n",
    "        neigh_lon = neigh_lat_lon[0]\n",
    "        newyork_data = newyork_data.append({'Borough': borough,\n",
    "                                          'Neighborhood': neigh_name,\n",
    "                                          'Latitude': neigh_lat,\n",
    "                                          'Longitude': neigh_lon}, ignore_index=True)\n",
    "    return newyork_data"
   ]
  },
  {
   "cell_type": "markdown",
   "metadata": {},
   "source": [
    "#### STEP 4: Input newyork data "
   ]
  },
  {
   "cell_type": "code",
   "execution_count": 19,
   "metadata": {},
   "outputs": [
    {
     "data": {
      "text/html": [
       "<div>\n",
       "<style scoped>\n",
       "    .dataframe tbody tr th:only-of-type {\n",
       "        vertical-align: middle;\n",
       "    }\n",
       "\n",
       "    .dataframe tbody tr th {\n",
       "        vertical-align: top;\n",
       "    }\n",
       "\n",
       "    .dataframe thead th {\n",
       "        text-align: right;\n",
       "    }\n",
       "</style>\n",
       "<table border=\"1\" class=\"dataframe\">\n",
       "  <thead>\n",
       "    <tr style=\"text-align: right;\">\n",
       "      <th></th>\n",
       "      <th>Borough</th>\n",
       "      <th>Neighborhood</th>\n",
       "      <th>Latitude</th>\n",
       "      <th>Longitude</th>\n",
       "    </tr>\n",
       "  </thead>\n",
       "  <tbody>\n",
       "    <tr>\n",
       "      <th>0</th>\n",
       "      <td>Bronx</td>\n",
       "      <td>Wakefield</td>\n",
       "      <td>40.894705</td>\n",
       "      <td>-73.847201</td>\n",
       "    </tr>\n",
       "    <tr>\n",
       "      <th>1</th>\n",
       "      <td>Bronx</td>\n",
       "      <td>Co-op City</td>\n",
       "      <td>40.874294</td>\n",
       "      <td>-73.829939</td>\n",
       "    </tr>\n",
       "    <tr>\n",
       "      <th>2</th>\n",
       "      <td>Bronx</td>\n",
       "      <td>Eastchester</td>\n",
       "      <td>40.887556</td>\n",
       "      <td>-73.827806</td>\n",
       "    </tr>\n",
       "    <tr>\n",
       "      <th>3</th>\n",
       "      <td>Bronx</td>\n",
       "      <td>Fieldston</td>\n",
       "      <td>40.895437</td>\n",
       "      <td>-73.905643</td>\n",
       "    </tr>\n",
       "    <tr>\n",
       "      <th>4</th>\n",
       "      <td>Bronx</td>\n",
       "      <td>Riverdale</td>\n",
       "      <td>40.890834</td>\n",
       "      <td>-73.912585</td>\n",
       "    </tr>\n",
       "  </tbody>\n",
       "</table>\n",
       "</div>"
      ],
      "text/plain": [
       "  Borough Neighborhood   Latitude  Longitude\n",
       "0   Bronx    Wakefield  40.894705 -73.847201\n",
       "1   Bronx   Co-op City  40.874294 -73.829939\n",
       "2   Bronx  Eastchester  40.887556 -73.827806\n",
       "3   Bronx    Fieldston  40.895437 -73.905643\n",
       "4   Bronx    Riverdale  40.890834 -73.912585"
      ]
     },
     "execution_count": 19,
     "metadata": {},
     "output_type": "execute_result"
    }
   ],
   "source": [
    "new_york = new_york_data()\n",
    "new_york.head()"
   ]
  },
  {
   "cell_type": "markdown",
   "metadata": {},
   "source": [
    "We got our input data of new_york. This data frame contains Borough, their neighborhood and respective Latitute and Logitudes."
   ]
  },
  {
   "cell_type": "code",
   "execution_count": 20,
   "metadata": {},
   "outputs": [
    {
     "data": {
      "text/plain": [
       "(306, 4)"
      ]
     },
     "execution_count": 20,
     "metadata": {},
     "output_type": "execute_result"
    }
   ],
   "source": [
    "new_york.shape"
   ]
  },
  {
   "cell_type": "markdown",
   "metadata": {},
   "source": [
    "It contains 306 rows and 4 columns. As we can see there are 306 different neighborhood in this input data New york"
   ]
  },
  {
   "cell_type": "markdown",
   "metadata": {},
   "source": [
    "#### STEP 5: Analyzing the input data "
   ]
  },
  {
   "cell_type": "markdown",
   "metadata": {},
   "source": [
    "Following we have created the bar plot inorder to analyze the insights from our input data"
   ]
  },
  {
   "cell_type": "code",
   "execution_count": 21,
   "metadata": {},
   "outputs": [],
   "source": [
    "new_york_count=new_york.groupby('Borough')['Neighborhood'].count()"
   ]
  },
  {
   "cell_type": "code",
   "execution_count": 22,
   "metadata": {},
   "outputs": [
    {
     "data": {
      "image/png": "[encoded data removed]",
      "text/plain": [
       "<Figure size 720x360 with 1 Axes>"
      ]
     },
     "metadata": {
      "needs_background": "light"
     },
     "output_type": "display_data"
    }
   ],
   "source": [
    "colour = \"blue\"\n",
    "new_york_count.plot.bar(figsize=(10,5), color=colour)\n",
    "plt.title('NEIGHBORHOODS PER BOROUGH', fontsize = 18)\n",
    "plt.xlabel('BOROUGH', fontsize = 15)\n",
    "plt.ylabel('NO OF NEIGHBORHOODS',fontsize = 15)\n",
    "plt.xticks(rotation = 'vertical')\n",
    "plt.legend()\n",
    "plt.show()"
   ]
  },
  {
   "cell_type": "markdown",
   "metadata": {},
   "source": [
    "As we can see above graph that, the place **\"Queens\"** in New York has the most number of neighborhoods, on the other hand **\"Manhattan\"** has comparitively less number of neighborhoods."
   ]
  },
  {
   "cell_type": "markdown",
   "metadata": {},
   "source": [
    "#### STEP 6: Creating dataframe that contains \"Indian Restaurants\""
   ]
  },
  {
   "cell_type": "markdown",
   "metadata": {},
   "source": [
    "Following we create the dataframe that contains Indian Restaurants in NY."
   ]
  },
  {
   "cell_type": "code",
   "execution_count": 26,
   "metadata": {},
   "outputs": [
    {
     "name": "stdout",
     "output_type": "stream",
     "text": [
      "( 1 / 306 ) Indian Restaurants in Wakefield, Bronx:0\n",
      "['Bronx', 'Wakefield', 40.89470517661, -73.84720052054902]\n",
      "( 2 / 306 ) Indian Restaurants in Co-op City, Bronx:0\n",
      "['Bronx', 'Co-op City', 40.87429419303012, -73.82993910812398]\n",
      "( 3 / 306 ) Indian Restaurants in Eastchester, Bronx:0\n",
      "['Bronx', 'Eastchester', 40.887555677350775, -73.82780644716412]\n",
      "( 4 / 306 ) Indian Restaurants in Fieldston, Bronx:0\n",
      "['Bronx', 'Fieldston', 40.89543742690383, -73.90564259591682]\n",
      "( 5 / 306 ) Indian Restaurants in Riverdale, Bronx:0\n",
      "['Bronx', 'Riverdale', 40.890834493891305, -73.9125854610857]\n",
      "( 6 / 306 ) Indian Restaurants in Kingsbridge, Bronx:0\n",
      "['Bronx', 'Kingsbridge', 40.88168737120521, -73.90281798724604]\n",
      "( 7 / 306 ) Indian Restaurants in Marble Hill, Manhattan:0\n",
      "['Manhattan', 'Marble Hill', 40.87655077879964, -73.91065965862981]\n",
      "( 8 / 306 ) Indian Restaurants in Woodlawn, Bronx:0\n",
      "['Bronx', 'Woodlawn', 40.89827261213805, -73.86731496814176]\n",
      "( 9 / 306 ) Indian Restaurants in Norwood, Bronx:0\n",
      "['Bronx', 'Norwood', 40.87722415599446, -73.8793907395681]\n",
      "( 10 / 306 ) Indian Restaurants in Williamsbridge, Bronx:0\n",
      "['Bronx', 'Williamsbridge', 40.88103887819211, -73.85744642974207]\n",
      "( 11 / 306 ) Indian Restaurants in Baychester, Bronx:0\n",
      "['Bronx', 'Baychester', 40.866858107252696, -73.83579759808117]\n",
      "( 12 / 306 ) Indian Restaurants in Pelham Parkway, Bronx:0\n",
      "['Bronx', 'Pelham Parkway', 40.85741349808865, -73.85475564017999]\n",
      "( 13 / 306 ) Indian Restaurants in City Island, Bronx:0\n",
      "['Bronx', 'City Island', 40.84724670491813, -73.78648845267413]\n",
      "( 14 / 306 ) Indian Restaurants in Bedford Park, Bronx:0\n",
      "['Bronx', 'Bedford Park', 40.870185164975325, -73.8855121841913]\n",
      "( 15 / 306 ) Indian Restaurants in University Heights, Bronx:0\n",
      "['Bronx', 'University Heights', 40.85572707719664, -73.9104159619131]\n",
      "( 16 / 306 ) Indian Restaurants in Morris Heights, Bronx:0\n",
      "['Bronx', 'Morris Heights', 40.84789792606271, -73.91967159119565]\n",
      "( 17 / 306 ) Indian Restaurants in Fordham, Bronx:0\n",
      "['Bronx', 'Fordham', 40.86099679638654, -73.89642655981623]\n",
      "( 18 / 306 ) Indian Restaurants in East Tremont, Bronx:0\n",
      "['Bronx', 'East Tremont', 40.84269615786053, -73.88735617532338]\n",
      "( 19 / 306 ) Indian Restaurants in West Farms, Bronx:0\n",
      "['Bronx', 'West Farms', 40.83947505672653, -73.87774474910545]\n",
      "( 20 / 306 ) Indian Restaurants in High  Bridge, Bronx:0\n",
      "['Bronx', 'High  Bridge', 40.836623010706056, -73.9261020935813]\n",
      "( 21 / 306 ) Indian Restaurants in Melrose, Bronx:0\n",
      "['Bronx', 'Melrose', 40.819754370594936, -73.90942160757436]\n",
      "( 22 / 306 ) Indian Restaurants in Mott Haven, Bronx:0\n",
      "['Bronx', 'Mott Haven', 40.80623874935177, -73.91609987487575]\n",
      "( 23 / 306 ) Indian Restaurants in Port Morris, Bronx:0\n",
      "['Bronx', 'Port Morris', 40.801663627756206, -73.91322139386135]\n",
      "( 24 / 306 ) Indian Restaurants in Longwood, Bronx:0\n",
      "['Bronx', 'Longwood', 40.81509904545822, -73.8957882009446]\n",
      "( 25 / 306 ) Indian Restaurants in Hunts Point, Bronx:0\n",
      "['Bronx', 'Hunts Point', 40.80972987938709, -73.88331505955291]\n",
      "( 26 / 306 ) Indian Restaurants in Morrisania, Bronx:0\n",
      "['Bronx', 'Morrisania', 40.82359198585534, -73.90150648943059]\n",
      "( 27 / 306 ) Indian Restaurants in Soundview, Bronx:0\n",
      "['Bronx', 'Soundview', 40.821012197914015, -73.86574609554924]\n",
      "( 28 / 306 ) Indian Restaurants in Clason Point, Bronx:0\n",
      "['Bronx', 'Clason Point', 40.80655112003589, -73.85414416189266]\n",
      "( 29 / 306 ) Indian Restaurants in Throgs Neck, Bronx:0\n",
      "['Bronx', 'Throgs Neck', 40.81510925804005, -73.81635002158441]\n",
      "( 30 / 306 ) Indian Restaurants in Country Club, Bronx:0\n",
      "['Bronx', 'Country Club', 40.844245936947374, -73.8240992675385]\n",
      "( 31 / 306 ) Indian Restaurants in Parkchester, Bronx:0\n",
      "['Bronx', 'Parkchester', 40.837937822267286, -73.85600310535783]\n",
      "( 32 / 306 ) Indian Restaurants in Westchester Square, Bronx:0\n",
      "['Bronx', 'Westchester Square', 40.8406194964327, -73.84219407604444]\n",
      "( 33 / 306 ) Indian Restaurants in Van Nest, Bronx:0\n",
      "['Bronx', 'Van Nest', 40.84360847124718, -73.8662991807561]\n",
      "( 34 / 306 ) Indian Restaurants in Morris Park, Bronx:0\n",
      "['Bronx', 'Morris Park', 40.847549063536334, -73.85040178030421]\n",
      "( 35 / 306 ) Indian Restaurants in Belmont, Bronx:0\n",
      "['Bronx', 'Belmont', 40.85727710073895, -73.88845196134804]\n",
      "( 36 / 306 ) Indian Restaurants in Spuyten Duyvil, Bronx:0\n",
      "['Bronx', 'Spuyten Duyvil', 40.88139497727086, -73.91719048210393]\n",
      "( 37 / 306 ) Indian Restaurants in North Riverdale, Bronx:0\n",
      "['Bronx', 'North Riverdale', 40.90854282950666, -73.90453054908927]\n",
      "( 38 / 306 ) Indian Restaurants in Pelham Bay, Bronx:0\n",
      "['Bronx', 'Pelham Bay', 40.85064140940335, -73.8320737824047]\n",
      "( 39 / 306 ) Indian Restaurants in Schuylerville, Bronx:0\n",
      "['Bronx', 'Schuylerville', 40.82657951686922, -73.82620275994073]\n",
      "( 40 / 306 ) Indian Restaurants in Edgewater Park, Bronx:0\n",
      "['Bronx', 'Edgewater Park', 40.821986118163494, -73.81388514428619]\n",
      "( 41 / 306 ) Indian Restaurants in Castle Hill, Bronx:0\n",
      "['Bronx', 'Castle Hill', 40.819014376988314, -73.84802729582735]\n",
      "( 42 / 306 ) Indian Restaurants in Olinville, Bronx:0\n",
      "['Bronx', 'Olinville', 40.87137078192371, -73.86332361652777]\n",
      "( 43 / 306 ) Indian Restaurants in Pelham Gardens, Bronx:0\n",
      "['Bronx', 'Pelham Gardens', 40.86296562477998, -73.84161194831223]\n",
      "( 44 / 306 ) Indian Restaurants in Concourse, Bronx:0\n",
      "['Bronx', 'Concourse', 40.83428380733851, -73.91558941773444]\n",
      "( 45 / 306 ) Indian Restaurants in Unionport, Bronx:0\n",
      "['Bronx', 'Unionport', 40.82977429787161, -73.85053524451935]\n",
      "( 46 / 306 ) Indian Restaurants in Edenwald, Bronx:0\n",
      "['Bronx', 'Edenwald', 40.88456130303732, -73.84808271877168]\n",
      "( 47 / 306 ) Indian Restaurants in Bay Ridge, Brooklyn:0\n",
      "['Brooklyn', 'Bay Ridge', 40.625801065010656, -74.03062069353813]\n",
      "( 48 / 306 ) Indian Restaurants in Bensonhurst, Brooklyn:0\n",
      "['Brooklyn', 'Bensonhurst', 40.61100890202044, -73.99517998380729]\n",
      "( 49 / 306 ) Indian Restaurants in Sunset Park, Brooklyn:0\n",
      "['Brooklyn', 'Sunset Park', 40.64510294925429, -74.01031618527784]\n",
      "( 50 / 306 ) Indian Restaurants in Greenpoint, Brooklyn:0\n",
      "['Brooklyn', 'Greenpoint', 40.7302009848647, -73.95424093127393]\n",
      "( 51 / 306 ) Indian Restaurants in Gravesend, Brooklyn:0\n",
      "['Brooklyn', 'Gravesend', 40.59526001306593, -73.97347087708445]\n",
      "( 52 / 306 ) Indian Restaurants in Brighton Beach, Brooklyn:0\n",
      "['Brooklyn', 'Brighton Beach', 40.57682506566604, -73.96509448785336]\n",
      "( 53 / 306 ) Indian Restaurants in Sheepshead Bay, Brooklyn:0\n",
      "['Brooklyn', 'Sheepshead Bay', 40.58689012678384, -73.94318640482979]\n",
      "( 54 / 306 ) Indian Restaurants in Manhattan Terrace, Brooklyn:0\n",
      "['Brooklyn', 'Manhattan Terrace', 40.61443251335098, -73.95743840559939]\n",
      "( 55 / 306 ) Indian Restaurants in Flatbush, Brooklyn:0\n",
      "['Brooklyn', 'Flatbush', 40.63632589026677, -73.95840106533903]\n",
      "( 56 / 306 ) Indian Restaurants in Crown Heights, Brooklyn:0\n",
      "['Brooklyn', 'Crown Heights', 40.67082917695294, -73.94329119073582]\n",
      "( 57 / 306 ) Indian Restaurants in East Flatbush, Brooklyn:0\n",
      "['Brooklyn', 'East Flatbush', 40.64171776668961, -73.93610256185836]\n",
      "( 58 / 306 ) Indian Restaurants in Kensington, Brooklyn:0\n",
      "['Brooklyn', 'Kensington', 40.642381958003526, -73.98042110559474]\n",
      "( 59 / 306 ) Indian Restaurants in Windsor Terrace, Brooklyn:0\n",
      "['Brooklyn', 'Windsor Terrace', 40.65694583575104, -73.98007340430172]\n",
      "( 60 / 306 ) Indian Restaurants in Prospect Heights, Brooklyn:0\n",
      "['Brooklyn', 'Prospect Heights', 40.676822262254724, -73.9648592426269]\n",
      "( 61 / 306 ) Indian Restaurants in Brownsville, Brooklyn:0\n",
      "['Brooklyn', 'Brownsville', 40.66394994339755, -73.91023536176607]\n",
      "( 62 / 306 ) Indian Restaurants in Williamsburg, Brooklyn:0\n",
      "['Brooklyn', 'Williamsburg', 40.70714439344251, -73.95811529220927]\n",
      "( 63 / 306 ) Indian Restaurants in Bushwick, Brooklyn:0\n",
      "['Brooklyn', 'Bushwick', 40.69811611017901, -73.92525797487045]\n",
      "( 64 / 306 ) Indian Restaurants in Bedford Stuyvesant, Brooklyn:0\n",
      "['Brooklyn', 'Bedford Stuyvesant', 40.687231607720456, -73.94178488690297]\n",
      "( 65 / 306 ) Indian Restaurants in Brooklyn Heights, Brooklyn:0\n",
      "['Brooklyn', 'Brooklyn Heights', 40.695863722724084, -73.99378225496424]\n",
      "( 66 / 306 ) Indian Restaurants in Cobble Hill, Brooklyn:0\n",
      "['Brooklyn', 'Cobble Hill', 40.687919722485574, -73.99856139218463]\n",
      "( 67 / 306 ) Indian Restaurants in Carroll Gardens, Brooklyn:0\n",
      "['Brooklyn', 'Carroll Gardens', 40.680540231076485, -73.99465372828006]\n",
      "( 68 / 306 ) Indian Restaurants in Red Hook, Brooklyn:0\n",
      "['Brooklyn', 'Red Hook', 40.676253230250886, -74.0127589747356]\n",
      "( 69 / 306 ) Indian Restaurants in Gowanus, Brooklyn:0\n",
      "['Brooklyn', 'Gowanus', 40.673931143187154, -73.99444087145339]\n",
      "( 70 / 306 ) Indian Restaurants in Fort Greene, Brooklyn:0\n",
      "['Brooklyn', 'Fort Greene', 40.68852726018977, -73.97290574369092]\n",
      "( 71 / 306 ) Indian Restaurants in Park Slope, Brooklyn:0\n",
      "['Brooklyn', 'Park Slope', 40.67232052268197, -73.97705030183924]\n",
      "( 72 / 306 ) Indian Restaurants in Cypress Hills, Brooklyn:0\n",
      "['Brooklyn', 'Cypress Hills', 40.68239101144211, -73.87661596457296]\n",
      "( 73 / 306 ) Indian Restaurants in East New York, Brooklyn:0\n",
      "['Brooklyn', 'East New York', 40.669925700847045, -73.88069863917366]\n",
      "( 74 / 306 ) Indian Restaurants in Starrett City, Brooklyn:0\n",
      "['Brooklyn', 'Starrett City', 40.64758905230874, -73.87936970045875]\n",
      "( 75 / 306 ) Indian Restaurants in Canarsie, Brooklyn:0\n",
      "['Brooklyn', 'Canarsie', 40.63556432797428, -73.90209269778966]\n",
      "( 76 / 306 ) Indian Restaurants in Flatlands, Brooklyn:0\n",
      "['Brooklyn', 'Flatlands', 40.630446043757466, -73.92911302644674]\n",
      "( 77 / 306 ) Indian Restaurants in Mill Island, Brooklyn:0\n",
      "['Brooklyn', 'Mill Island', 40.606336421685626, -73.90818571777423]\n",
      "( 78 / 306 ) Indian Restaurants in Manhattan Beach, Brooklyn:0\n",
      "['Brooklyn', 'Manhattan Beach', 40.57791350308657, -73.94353722891886]\n",
      "( 79 / 306 ) Indian Restaurants in Coney Island, Brooklyn:0\n",
      "['Brooklyn', 'Coney Island', 40.57429256471601, -73.98868295821637]\n",
      "( 80 / 306 ) Indian Restaurants in Bath Beach, Brooklyn:0\n",
      "['Brooklyn', 'Bath Beach', 40.59951870282238, -73.99875221443519]\n",
      "( 81 / 306 ) Indian Restaurants in Borough Park, Brooklyn:0\n",
      "['Brooklyn', 'Borough Park', 40.633130512758015, -73.99049823044811]\n",
      "( 82 / 306 ) Indian Restaurants in Dyker Heights, Brooklyn:0\n",
      "['Brooklyn', 'Dyker Heights', 40.619219457722636, -74.01931375636022]\n",
      "( 83 / 306 ) Indian Restaurants in Gerritsen Beach, Brooklyn:0\n",
      "['Brooklyn', 'Gerritsen Beach', 40.590848433902046, -73.93010170691196]\n",
      "( 84 / 306 ) Indian Restaurants in Marine Park, Brooklyn:0\n",
      "['Brooklyn', 'Marine Park', 40.609747779894604, -73.93134404108497]\n",
      "( 85 / 306 ) Indian Restaurants in Clinton Hill, Brooklyn:0\n",
      "['Brooklyn', 'Clinton Hill', 40.693229421881504, -73.96784306216367]\n",
      "( 86 / 306 ) Indian Restaurants in Sea Gate, Brooklyn:0\n",
      "['Brooklyn', 'Sea Gate', 40.57637537890224, -74.0078731120024]\n",
      "( 87 / 306 ) Indian Restaurants in Downtown, Brooklyn:0\n",
      "['Brooklyn', 'Downtown', 40.69084402109802, -73.98346337431099]\n",
      "( 88 / 306 ) Indian Restaurants in Boerum Hill, Brooklyn:0\n",
      "['Brooklyn', 'Boerum Hill', 40.685682912091444, -73.98374824115798]\n",
      "( 89 / 306 ) Indian Restaurants in Prospect Lefferts Gardens, Brooklyn:0\n",
      "['Brooklyn', 'Prospect Lefferts Gardens', 40.658420017469815, -73.95489867077713]\n",
      "( 90 / 306 ) Indian Restaurants in Ocean Hill, Brooklyn:0\n",
      "['Brooklyn', 'Ocean Hill', 40.678402554795355, -73.91306831787395]\n",
      "( 91 / 306 ) Indian Restaurants in City Line, Brooklyn:0\n",
      "['Brooklyn', 'City Line', 40.67856995727479, -73.86797598081334]\n",
      "( 92 / 306 ) Indian Restaurants in Bergen Beach, Brooklyn:0\n",
      "['Brooklyn', 'Bergen Beach', 40.61514955045308, -73.89855633630317]\n",
      "( 93 / 306 ) Indian Restaurants in Midwood, Brooklyn:0\n",
      "['Brooklyn', 'Midwood', 40.62559589869843, -73.95759523489838]\n",
      "( 94 / 306 ) Indian Restaurants in Prospect Park South, Brooklyn:0\n",
      "['Brooklyn', 'Prospect Park South', 40.647008603185185, -73.96261316716048]\n",
      "( 95 / 306 ) Indian Restaurants in Georgetown, Brooklyn:0\n",
      "['Brooklyn', 'Georgetown', 40.62384524478419, -73.91607483951324]\n",
      "( 96 / 306 ) Indian Restaurants in East Williamsburg, Brooklyn:0\n",
      "['Brooklyn', 'East Williamsburg', 40.70849241041548, -73.93885815269195]\n",
      "( 97 / 306 ) Indian Restaurants in North Side, Brooklyn:0\n",
      "['Brooklyn', 'North Side', 40.714822906532014, -73.95880857587582]\n",
      "( 98 / 306 ) Indian Restaurants in South Side, Brooklyn:0\n",
      "['Brooklyn', 'South Side', 40.71086147265064, -73.95800095153331]\n",
      "( 99 / 306 ) Indian Restaurants in Ocean Parkway, Brooklyn:0\n",
      "['Brooklyn', 'Ocean Parkway', 40.61305976667942, -73.96836678035541]\n",
      "( 100 / 306 ) Indian Restaurants in Fort Hamilton, Brooklyn:0\n",
      "['Brooklyn', 'Fort Hamilton', 40.61476812694226, -74.03197914537984]\n",
      "( 101 / 306 ) Indian Restaurants in Chinatown, Manhattan:0\n",
      "['Manhattan', 'Chinatown', 40.71561842231432, -73.99427936255978]\n",
      "( 102 / 306 ) Indian Restaurants in Washington Heights, Manhattan:0\n",
      "['Manhattan', 'Washington Heights', 40.85190252555305, -73.93690027985234]\n",
      "( 103 / 306 ) Indian Restaurants in Inwood, Manhattan:0\n",
      "['Manhattan', 'Inwood', 40.86768396449915, -73.92121042203897]\n",
      "( 104 / 306 ) Indian Restaurants in Hamilton Heights, Manhattan:0\n",
      "['Manhattan', 'Hamilton Heights', 40.823604284811935, -73.94968791883366]\n",
      "( 105 / 306 ) Indian Restaurants in Manhattanville, Manhattan:0\n",
      "['Manhattan', 'Manhattanville', 40.8169344294978, -73.9573853935188]\n",
      "( 106 / 306 ) Indian Restaurants in Central Harlem, Manhattan:0\n",
      "['Manhattan', 'Central Harlem', 40.81597606742414, -73.94321112603905]\n",
      "( 107 / 306 ) Indian Restaurants in East Harlem, Manhattan:0\n",
      "['Manhattan', 'East Harlem', 40.79224946663033, -73.94418223148524]\n",
      "( 108 / 306 ) Indian Restaurants in Upper East Side, Manhattan:0\n",
      "['Manhattan', 'Upper East Side', 40.775638573301805, -73.96050763135]\n",
      "( 109 / 306 ) Indian Restaurants in Yorkville, Manhattan:0\n",
      "['Manhattan', 'Yorkville', 40.775929849884875, -73.94711784471826]\n",
      "( 110 / 306 ) Indian Restaurants in Lenox Hill, Manhattan:0\n",
      "['Manhattan', 'Lenox Hill', 40.76811265828733, -73.9588596881376]\n",
      "( 111 / 306 ) Indian Restaurants in Roosevelt Island, Manhattan:0\n",
      "['Manhattan', 'Roosevelt Island', 40.76215960576283, -73.94916769227953]\n",
      "( 112 / 306 ) Indian Restaurants in Upper West Side, Manhattan:0\n",
      "['Manhattan', 'Upper West Side', 40.787657998534854, -73.97705923630603]\n",
      "( 113 / 306 ) Indian Restaurants in Lincoln Square, Manhattan:0\n",
      "['Manhattan', 'Lincoln Square', 40.77352888942166, -73.98533777001262]\n",
      "( 114 / 306 ) Indian Restaurants in Clinton, Manhattan:0\n",
      "['Manhattan', 'Clinton', 40.75910089146212, -73.99611936309479]\n",
      "( 115 / 306 ) Indian Restaurants in Midtown, Manhattan:0\n",
      "['Manhattan', 'Midtown', 40.75469110270623, -73.98166882730304]\n",
      "( 116 / 306 ) Indian Restaurants in Murray Hill, Manhattan:0\n",
      "['Manhattan', 'Murray Hill', 40.748303077252174, -73.97833207924127]\n",
      "( 117 / 306 ) Indian Restaurants in Chelsea, Manhattan:0\n",
      "['Manhattan', 'Chelsea', 40.744034706747975, -74.00311633472813]\n",
      "( 118 / 306 ) Indian Restaurants in Greenwich Village, Manhattan:0\n",
      "['Manhattan', 'Greenwich Village', 40.72693288536128, -73.99991402945902]\n",
      "( 119 / 306 ) Indian Restaurants in East Village, Manhattan:0\n",
      "['Manhattan', 'East Village', 40.727846777270244, -73.98222616506416]\n",
      "( 120 / 306 ) Indian Restaurants in Lower East Side, Manhattan:0\n",
      "['Manhattan', 'Lower East Side', 40.71780674892765, -73.98089031999291]\n",
      "( 121 / 306 ) Indian Restaurants in Tribeca, Manhattan:0\n",
      "['Manhattan', 'Tribeca', 40.721521967443216, -74.01068328559087]\n",
      "( 122 / 306 ) Indian Restaurants in Little Italy, Manhattan:0\n",
      "['Manhattan', 'Little Italy', 40.71932379395907, -73.99730467208073]\n",
      "( 123 / 306 ) Indian Restaurants in Soho, Manhattan:0\n",
      "['Manhattan', 'Soho', 40.72218384131794, -74.00065666959759]\n",
      "( 124 / 306 ) Indian Restaurants in West Village, Manhattan:0\n",
      "['Manhattan', 'West Village', 40.73443393572434, -74.00617998126812]\n",
      "( 125 / 306 ) Indian Restaurants in Manhattan Valley, Manhattan:0\n",
      "['Manhattan', 'Manhattan Valley', 40.797307041702865, -73.96428617740655]\n",
      "( 126 / 306 ) Indian Restaurants in Morningside Heights, Manhattan:0\n",
      "['Manhattan', 'Morningside Heights', 40.807999738165826, -73.96389627905332]\n",
      "( 127 / 306 ) Indian Restaurants in Gramercy, Manhattan:0\n",
      "['Manhattan', 'Gramercy', 40.737209832715, -73.98137594833541]\n",
      "( 128 / 306 ) Indian Restaurants in Battery Park City, Manhattan:0\n",
      "['Manhattan', 'Battery Park City', 40.71193198394565, -74.01686930508617]\n",
      "( 129 / 306 ) Indian Restaurants in Financial District, Manhattan:0\n",
      "['Manhattan', 'Financial District', 40.70710710727048, -74.0106654452127]\n",
      "( 130 / 306 ) Indian Restaurants in Astoria, Queens:0\n",
      "['Queens', 'Astoria', 40.76850859335492, -73.91565374304234]\n",
      "( 131 / 306 ) Indian Restaurants in Woodside, Queens:0\n",
      "['Queens', 'Woodside', 40.74634908860222, -73.90184166838284]\n",
      "( 132 / 306 ) Indian Restaurants in Jackson Heights, Queens:0\n",
      "['Queens', 'Jackson Heights', 40.75198138007367, -73.88282109164365]\n",
      "( 133 / 306 ) Indian Restaurants in Elmhurst, Queens:0\n",
      "['Queens', 'Elmhurst', 40.744048505122024, -73.88165622288388]\n",
      "( 134 / 306 ) Indian Restaurants in Howard Beach, Queens:0\n",
      "['Queens', 'Howard Beach', 40.65422527738487, -73.8381376460028]\n",
      "( 135 / 306 ) Indian Restaurants in Corona, Queens:0\n",
      "['Queens', 'Corona', 40.74238175015667, -73.85682497345258]\n",
      "( 136 / 306 ) Indian Restaurants in Forest Hills, Queens:0\n",
      "['Queens', 'Forest Hills', 40.72526378216503, -73.84447500788983]\n",
      "( 137 / 306 ) Indian Restaurants in Kew Gardens, Queens:0\n",
      "['Queens', 'Kew Gardens', 40.7051790354148, -73.82981905825703]\n",
      "( 138 / 306 ) Indian Restaurants in Richmond Hill, Queens:0\n",
      "['Queens', 'Richmond Hill', 40.69794731471763, -73.83183321446887]\n",
      "( 139 / 306 ) Indian Restaurants in Flushing, Queens:0\n",
      "['Queens', 'Flushing', 40.76445419697846, -73.83177300329582]\n",
      "( 140 / 306 ) Indian Restaurants in Long Island City, Queens:0\n",
      "['Queens', 'Long Island City', 40.75021734610528, -73.93920223915505]\n",
      "( 141 / 306 ) Indian Restaurants in Sunnyside, Queens:0\n",
      "['Queens', 'Sunnyside', 40.74017628351924, -73.92691617561577]\n",
      "( 142 / 306 ) Indian Restaurants in East Elmhurst, Queens:0\n",
      "['Queens', 'East Elmhurst', 40.76407323883091, -73.86704147658772]\n",
      "( 143 / 306 ) Indian Restaurants in Maspeth, Queens:0\n",
      "['Queens', 'Maspeth', 40.725427374093606, -73.89621713626859]\n",
      "( 144 / 306 ) Indian Restaurants in Ridgewood, Queens:0\n",
      "['Queens', 'Ridgewood', 40.70832315613858, -73.90143517559589]\n",
      "( 145 / 306 ) Indian Restaurants in Glendale, Queens:0\n",
      "['Queens', 'Glendale', 40.70276242967838, -73.87074167435605]\n",
      "( 146 / 306 ) Indian Restaurants in Rego Park, Queens:0\n",
      "['Queens', 'Rego Park', 40.72897409480735, -73.8578268690537]\n",
      "( 147 / 306 ) Indian Restaurants in Woodhaven, Queens:0\n",
      "['Queens', 'Woodhaven', 40.68988687915789, -73.8581104655432]\n",
      "( 148 / 306 ) Indian Restaurants in Ozone Park, Queens:0\n",
      "['Queens', 'Ozone Park', 40.680708468265415, -73.84320266173447]\n",
      "( 149 / 306 ) Indian Restaurants in South Ozone Park, Queens:0\n",
      "['Queens', 'South Ozone Park', 40.66854957767195, -73.80986478649041]\n",
      "( 150 / 306 ) Indian Restaurants in College Point, Queens:0\n",
      "['Queens', 'College Point', 40.784902749260205, -73.84304528896125]\n",
      "( 151 / 306 ) Indian Restaurants in Whitestone, Queens:0\n",
      "['Queens', 'Whitestone', 40.78129076602694, -73.81420216610863]\n",
      "( 152 / 306 ) Indian Restaurants in Bayside, Queens:0\n",
      "['Queens', 'Bayside', 40.76604063281064, -73.7742736306867]\n",
      "( 153 / 306 ) Indian Restaurants in Auburndale, Queens:0\n",
      "['Queens', 'Auburndale', 40.76172954903262, -73.79176243728061]\n",
      "( 154 / 306 ) Indian Restaurants in Little Neck, Queens:0\n",
      "['Queens', 'Little Neck', 40.7708261928267, -73.7388977558074]\n",
      "( 155 / 306 ) Indian Restaurants in Douglaston, Queens:0\n",
      "['Queens', 'Douglaston', 40.76684609790763, -73.7424982072733]\n",
      "( 156 / 306 ) Indian Restaurants in Glen Oaks, Queens:0\n",
      "['Queens', 'Glen Oaks', 40.74944079974332, -73.71548118999145]\n",
      "( 157 / 306 ) Indian Restaurants in Bellerose, Queens:0\n",
      "['Queens', 'Bellerose', 40.72857318176675, -73.72012814826903]\n",
      "( 158 / 306 ) Indian Restaurants in Kew Gardens Hills, Queens:0\n",
      "['Queens', 'Kew Gardens Hills', 40.722578244228046, -73.82087764933566]\n",
      "( 159 / 306 ) Indian Restaurants in Fresh Meadows, Queens:0\n",
      "['Queens', 'Fresh Meadows', 40.7343944653313, -73.78271337003264]\n",
      "( 160 / 306 ) Indian Restaurants in Briarwood, Queens:0\n",
      "['Queens', 'Briarwood', 40.71093547252271, -73.81174822458634]\n",
      "( 161 / 306 ) Indian Restaurants in Jamaica Center, Queens:0\n",
      "['Queens', 'Jamaica Center', 40.70465736068717, -73.79690165888289]\n",
      "( 162 / 306 ) Indian Restaurants in Oakland Gardens, Queens:0\n",
      "['Queens', 'Oakland Gardens', 40.74561857141855, -73.75494976234332]\n",
      "( 163 / 306 ) Indian Restaurants in Queens Village, Queens:0\n",
      "['Queens', 'Queens Village', 40.718893092167356, -73.73871484578424]\n",
      "( 164 / 306 ) Indian Restaurants in Hollis, Queens:0\n",
      "['Queens', 'Hollis', 40.71124344191904, -73.75925009335594]\n",
      "( 165 / 306 ) Indian Restaurants in South Jamaica, Queens:0\n",
      "['Queens', 'South Jamaica', 40.696911253789885, -73.7904261313554]\n",
      "( 166 / 306 ) Indian Restaurants in St. Albans, Queens:0\n",
      "['Queens', 'St. Albans', 40.69444538522359, -73.75867603727717]\n",
      "( 167 / 306 ) Indian Restaurants in Rochdale, Queens:0\n",
      "['Queens', 'Rochdale', 40.67521139591733, -73.77258787620906]\n",
      "( 168 / 306 ) Indian Restaurants in Springfield Gardens, Queens:0\n",
      "['Queens', 'Springfield Gardens', 40.666230490368584, -73.76042092682287]\n",
      "( 169 / 306 ) Indian Restaurants in Cambria Heights, Queens:0\n",
      "['Queens', 'Cambria Heights', 40.692774639160845, -73.73526873708026]\n",
      "( 170 / 306 ) Indian Restaurants in Rosedale, Queens:0\n",
      "['Queens', 'Rosedale', 40.659816433428084, -73.73526079428278]\n",
      "( 171 / 306 ) Indian Restaurants in Far Rockaway, Queens:0\n",
      "['Queens', 'Far Rockaway', 40.603134432500894, -73.75497968043872]\n",
      "( 172 / 306 ) Indian Restaurants in Broad Channel, Queens:0\n",
      "['Queens', 'Broad Channel', 40.60302658351238, -73.8200548911032]\n",
      "( 173 / 306 ) Indian Restaurants in Breezy Point, Queens:0\n",
      "['Queens', 'Breezy Point', 40.55740128845452, -73.92551196994168]\n",
      "( 174 / 306 ) Indian Restaurants in Steinway, Queens:0\n",
      "['Queens', 'Steinway', 40.775923015642896, -73.90228960391673]\n",
      "( 175 / 306 ) Indian Restaurants in Beechhurst, Queens:0\n",
      "['Queens', 'Beechhurst', 40.79278140360048, -73.80436451720988]\n",
      "( 176 / 306 ) Indian Restaurants in Bay Terrace, Queens:0\n",
      "['Queens', 'Bay Terrace', 40.782842806245554, -73.7768022262158]\n",
      "( 177 / 306 ) Indian Restaurants in Edgemere, Queens:0\n",
      "['Queens', 'Edgemere', 40.595641807368494, -73.77613282391705]\n",
      "( 178 / 306 ) Indian Restaurants in Arverne, Queens:0\n",
      "['Queens', 'Arverne', 40.58914394372971, -73.79199233136943]\n",
      "( 179 / 306 ) Indian Restaurants in Rockaway Beach, Queens:0\n",
      "['Queens', 'Rockaway Beach', 40.582801696845586, -73.82236121088751]\n",
      "( 180 / 306 ) Indian Restaurants in Neponsit, Queens:0\n",
      "['Queens', 'Neponsit', 40.572036730217015, -73.85754672410827]\n",
      "( 181 / 306 ) Indian Restaurants in Murray Hill, Queens:0\n",
      "['Queens', 'Murray Hill', 40.764126122614066, -73.81276269135866]\n",
      "( 182 / 306 ) Indian Restaurants in Floral Park, Queens:0\n",
      "['Queens', 'Floral Park', 40.741378421945434, -73.70884705889246]\n",
      "( 183 / 306 ) Indian Restaurants in Holliswood, Queens:0\n",
      "['Queens', 'Holliswood', 40.7209572076444, -73.76714166714729]\n",
      "( 184 / 306 ) Indian Restaurants in Jamaica Estates, Queens:0\n",
      "['Queens', 'Jamaica Estates', 40.71680483014613, -73.7872269693666]\n",
      "( 185 / 306 ) Indian Restaurants in Queensboro Hill, Queens:0\n",
      "['Queens', 'Queensboro Hill', 40.7445723092867, -73.82580915110559]\n",
      "( 186 / 306 ) Indian Restaurants in Hillcrest, Queens:0\n",
      "['Queens', 'Hillcrest', 40.723824901829204, -73.79760300912672]\n",
      "( 187 / 306 ) Indian Restaurants in Ravenswood, Queens:0\n",
      "['Queens', 'Ravenswood', 40.761704526054146, -73.93157506072878]\n",
      "( 188 / 306 ) Indian Restaurants in Lindenwood, Queens:0\n",
      "['Queens', 'Lindenwood', 40.66391841925139, -73.84963782402441]\n",
      "( 189 / 306 ) Indian Restaurants in Laurelton, Queens:0\n",
      "['Queens', 'Laurelton', 40.66788389660247, -73.74025607989822]\n",
      "( 190 / 306 ) Indian Restaurants in Lefrak City, Queens:0\n",
      "['Queens', 'Lefrak City', 40.736074570830795, -73.8625247141374]\n",
      "( 191 / 306 ) Indian Restaurants in Belle Harbor, Queens:0\n",
      "['Queens', 'Belle Harbor', 40.57615556543109, -73.8540175039252]\n",
      "( 192 / 306 ) Indian Restaurants in Rockaway Park, Queens:0\n",
      "['Queens', 'Rockaway Park', 40.58034295646131, -73.84153370226186]\n",
      "( 193 / 306 ) Indian Restaurants in Somerville, Queens:0\n",
      "['Queens', 'Somerville', 40.59771061565768, -73.79664750844047]\n",
      "( 194 / 306 ) Indian Restaurants in Brookville, Queens:0\n",
      "['Queens', 'Brookville', 40.66000322733613, -73.75175310731153]\n",
      "( 195 / 306 ) Indian Restaurants in Bellaire, Queens:0\n",
      "['Queens', 'Bellaire', 40.73301404027834, -73.73889198912481]\n",
      "( 196 / 306 ) Indian Restaurants in North Corona, Queens:0\n",
      "['Queens', 'North Corona', 40.7540709990489, -73.85751790676447]\n",
      "( 197 / 306 ) Indian Restaurants in Forest Hills Gardens, Queens:0\n",
      "['Queens', 'Forest Hills Gardens', 40.7146110815117, -73.8410221123401]\n",
      "( 198 / 306 ) Indian Restaurants in St. George, Staten Island:0\n",
      "['Staten Island', 'St. George', 40.6449815710044, -74.07935312512797]\n",
      "( 199 / 306 ) Indian Restaurants in New Brighton, Staten Island:0\n",
      "['Staten Island', 'New Brighton', 40.64061455913511, -74.08701650516625]\n",
      "( 200 / 306 ) Indian Restaurants in Stapleton, Staten Island:0\n",
      "['Staten Island', 'Stapleton', 40.62692762538176, -74.07790192660066]\n",
      "( 201 / 306 ) Indian Restaurants in Rosebank, Staten Island:0\n",
      "['Staten Island', 'Rosebank', 40.61530494652761, -74.06980526716141]\n",
      "( 202 / 306 ) Indian Restaurants in West Brighton, Staten Island:0\n",
      "['Staten Island', 'West Brighton', 40.63187892654607, -74.1071817826561]\n",
      "( 203 / 306 ) Indian Restaurants in Grymes Hill, Staten Island:0\n",
      "['Staten Island', 'Grymes Hill', 40.624184791313006, -74.08724819983729]\n",
      "( 204 / 306 ) Indian Restaurants in Todt Hill, Staten Island:0\n",
      "['Staten Island', 'Todt Hill', 40.59706851814673, -74.1113288180088]\n",
      "( 205 / 306 ) Indian Restaurants in South Beach, Staten Island:0\n",
      "['Staten Island', 'South Beach', 40.58024741350956, -74.0795529253982]\n",
      "( 206 / 306 ) Indian Restaurants in Port Richmond, Staten Island:0\n",
      "['Staten Island', 'Port Richmond', 40.63366930554365, -74.12943426797008]\n",
      "( 207 / 306 ) Indian Restaurants in Mariner's Harbor, Staten Island:0\n",
      "['Staten Island', \"Mariner's Harbor\", 40.632546390481124, -74.15008537046981]\n",
      "( 208 / 306 ) Indian Restaurants in Port Ivory, Staten Island:0\n",
      "['Staten Island', 'Port Ivory', 40.63968297845542, -74.17464532993542]\n",
      "( 209 / 306 ) Indian Restaurants in Castleton Corners, Staten Island:0\n",
      "['Staten Island', 'Castleton Corners', 40.61333593766742, -74.11918058534842]\n",
      "( 210 / 306 ) Indian Restaurants in New Springville, Staten Island:0\n",
      "['Staten Island', 'New Springville', 40.594252379161695, -74.16496031329827]\n",
      "( 211 / 306 ) Indian Restaurants in Travis, Staten Island:0\n",
      "['Staten Island', 'Travis', 40.58631375103281, -74.19073717538116]\n",
      "( 212 / 306 ) Indian Restaurants in New Dorp, Staten Island:0\n",
      "['Staten Island', 'New Dorp', 40.57257231820632, -74.1164794360638]\n",
      "( 213 / 306 ) Indian Restaurants in Oakwood, Staten Island:0\n",
      "['Staten Island', 'Oakwood', 40.5584622432888, -74.12156593771896]\n",
      "( 214 / 306 ) Indian Restaurants in Great Kills, Staten Island:0\n",
      "['Staten Island', 'Great Kills', 40.549480228713605, -74.14932381490992]\n",
      "( 215 / 306 ) Indian Restaurants in Eltingville, Staten Island:0\n",
      "['Staten Island', 'Eltingville', 40.542230747450745, -74.1643308041936]\n",
      "( 216 / 306 ) Indian Restaurants in Annadale, Staten Island:0\n",
      "['Staten Island', 'Annadale', 40.53811417474507, -74.17854866165878]\n",
      "( 217 / 306 ) Indian Restaurants in Woodrow, Staten Island:0\n",
      "['Staten Island', 'Woodrow', 40.541967622888755, -74.20524582480326]\n",
      "( 218 / 306 ) Indian Restaurants in Tottenville, Staten Island:0\n",
      "['Staten Island', 'Tottenville', 40.50533376115642, -74.24656934235283]\n",
      "( 219 / 306 ) Indian Restaurants in Tompkinsville, Staten Island:0\n",
      "['Staten Island', 'Tompkinsville', 40.637316067110326, -74.08055351790115]\n",
      "( 220 / 306 ) Indian Restaurants in Silver Lake, Staten Island:0\n",
      "['Staten Island', 'Silver Lake', 40.61919310792676, -74.09629029235458]\n",
      "( 221 / 306 ) Indian Restaurants in Sunnyside, Staten Island:0\n",
      "['Staten Island', 'Sunnyside', 40.61276015756489, -74.0971255217853]\n",
      "( 222 / 306 ) Indian Restaurants in Ditmas Park, Brooklyn:0\n",
      "['Brooklyn', 'Ditmas Park', 40.643675183340974, -73.96101312466779]\n",
      "( 223 / 306 ) Indian Restaurants in Wingate, Brooklyn:0\n",
      "['Brooklyn', 'Wingate', 40.66094656188111, -73.93718680559314]\n",
      "( 224 / 306 ) Indian Restaurants in Rugby, Brooklyn:0\n",
      "['Brooklyn', 'Rugby', 40.655572313280764, -73.92688212616955]\n",
      "( 225 / 306 ) Indian Restaurants in Park Hill, Staten Island:0\n",
      "['Staten Island', 'Park Hill', 40.60919044434558, -74.08015734936296]\n",
      "( 226 / 306 ) Indian Restaurants in Westerleigh, Staten Island:0\n",
      "['Staten Island', 'Westerleigh', 40.62109047275409, -74.13304143951704]\n",
      "( 227 / 306 ) Indian Restaurants in Graniteville, Staten Island:0\n",
      "['Staten Island', 'Graniteville', 40.620171512231884, -74.15315246387762]\n",
      "( 228 / 306 ) Indian Restaurants in Arlington, Staten Island:0\n",
      "['Staten Island', 'Arlington', 40.63532509911492, -74.16510420241124]\n",
      "( 229 / 306 ) Indian Restaurants in Arrochar, Staten Island:0\n",
      "['Staten Island', 'Arrochar', 40.596312571276734, -74.06712363225574]\n",
      "( 230 / 306 ) Indian Restaurants in Grasmere, Staten Island:0\n",
      "['Staten Island', 'Grasmere', 40.59826835959991, -74.0766743627905]\n",
      "( 231 / 306 ) Indian Restaurants in Old Town, Staten Island:0\n",
      "['Staten Island', 'Old Town', 40.59632891379513, -74.08751118005578]\n",
      "( 232 / 306 ) Indian Restaurants in Dongan Hills, Staten Island:0\n",
      "['Staten Island', 'Dongan Hills', 40.588672948199275, -74.09639905312521]\n",
      "( 233 / 306 ) Indian Restaurants in Midland Beach, Staten Island:0\n",
      "['Staten Island', 'Midland Beach', 40.57352690574283, -74.09348266303591]\n",
      "( 234 / 306 ) Indian Restaurants in Grant City, Staten Island:0\n",
      "['Staten Island', 'Grant City', 40.57621558711788, -74.10585598545434]\n",
      "( 235 / 306 ) Indian Restaurants in New Dorp Beach, Staten Island:0\n",
      "['Staten Island', 'New Dorp Beach', 40.56425549307335, -74.10432707469124]\n",
      "( 236 / 306 ) Indian Restaurants in Bay Terrace, Staten Island:0\n",
      "['Staten Island', 'Bay Terrace', 40.55398800858462, -74.13916622175768]\n",
      "( 237 / 306 ) Indian Restaurants in Huguenot, Staten Island:0\n",
      "['Staten Island', 'Huguenot', 40.531911920489605, -74.19174105747814]\n",
      "( 238 / 306 ) Indian Restaurants in Pleasant Plains, Staten Island:0\n",
      "['Staten Island', 'Pleasant Plains', 40.524699376118136, -74.21983106616777]\n",
      "( 239 / 306 ) Indian Restaurants in Butler Manor, Staten Island:0\n",
      "['Staten Island', 'Butler Manor', 40.50608165346305, -74.22950350260027]\n",
      "( 240 / 306 ) Indian Restaurants in Charleston, Staten Island:0\n",
      "['Staten Island', 'Charleston', 40.53053148283314, -74.23215775896526]\n",
      "( 241 / 306 ) Indian Restaurants in Rossville, Staten Island:0\n",
      "['Staten Island', 'Rossville', 40.54940400650072, -74.21572851113952]\n",
      "( 242 / 306 ) Indian Restaurants in Arden Heights, Staten Island:0\n",
      "['Staten Island', 'Arden Heights', 40.54928582278321, -74.18588674583893]\n",
      "( 243 / 306 ) Indian Restaurants in Greenridge, Staten Island:0\n",
      "['Staten Island', 'Greenridge', 40.555295236173194, -74.17079414786092]\n",
      "( 244 / 306 ) Indian Restaurants in Heartland Village, Staten Island:0\n",
      "['Staten Island', 'Heartland Village', 40.58913894875281, -74.15902208156601]\n",
      "( 245 / 306 ) Indian Restaurants in Chelsea, Staten Island:0\n",
      "['Staten Island', 'Chelsea', 40.59472602746295, -74.1895604551969]\n",
      "( 246 / 306 ) Indian Restaurants in Bloomfield, Staten Island:0\n",
      "['Staten Island', 'Bloomfield', 40.60577868452358, -74.18725638381567]\n",
      "( 247 / 306 ) Indian Restaurants in Bulls Head, Staten Island:0\n",
      "['Staten Island', 'Bulls Head', 40.6095918004203, -74.15940948657122]\n",
      "( 248 / 306 ) Indian Restaurants in Carnegie Hill, Manhattan:0\n",
      "['Manhattan', 'Carnegie Hill', 40.7826825671257, -73.95325646837112]\n",
      "( 249 / 306 ) Indian Restaurants in Noho, Manhattan:0\n",
      "['Manhattan', 'Noho', 40.72325901885768, -73.98843368023597]\n",
      "( 250 / 306 ) Indian Restaurants in Civic Center, Manhattan:0\n",
      "['Manhattan', 'Civic Center', 40.71522892046282, -74.00541529873355]\n",
      "( 251 / 306 ) Indian Restaurants in Midtown South, Manhattan:0\n",
      "['Manhattan', 'Midtown South', 40.7485096643122, -73.98871313285247]\n",
      "( 252 / 306 ) Indian Restaurants in Richmond Town, Staten Island:0\n",
      "['Staten Island', 'Richmond Town', 40.56960594275505, -74.1340572986257]\n",
      "( 253 / 306 ) Indian Restaurants in Shore Acres, Staten Island:0\n",
      "['Staten Island', 'Shore Acres', 40.60971934079284, -74.06667766061771]\n",
      "( 254 / 306 ) Indian Restaurants in Clifton, Staten Island:0\n",
      "['Staten Island', 'Clifton', 40.61917845202843, -74.072642445484]\n",
      "( 255 / 306 ) Indian Restaurants in Concord, Staten Island:0\n",
      "['Staten Island', 'Concord', 40.6044731896879, -74.08402364740358]\n",
      "( 256 / 306 ) Indian Restaurants in Emerson Hill, Staten Island:0\n",
      "['Staten Island', 'Emerson Hill', 40.606794394801, -74.09776206972522]\n",
      "( 257 / 306 ) Indian Restaurants in Randall Manor, Staten Island:0\n",
      "['Staten Island', 'Randall Manor', 40.63563000681151, -74.09805062373887]\n",
      "( 258 / 306 ) Indian Restaurants in Howland Hook, Staten Island:0\n",
      "['Staten Island', 'Howland Hook', 40.63843283794795, -74.18622331749823]\n",
      "( 259 / 306 ) Indian Restaurants in Elm Park, Staten Island:0\n",
      "['Staten Island', 'Elm Park', 40.630146741193826, -74.1418167896889]\n",
      "( 260 / 306 ) Indian Restaurants in Remsen Village, Brooklyn:0\n",
      "['Brooklyn', 'Remsen Village', 40.652117451793494, -73.91665331978048]\n",
      "( 261 / 306 ) Indian Restaurants in New Lots, Brooklyn:0\n",
      "['Brooklyn', 'New Lots', 40.6627442796966, -73.88511776379292]\n",
      "( 262 / 306 ) Indian Restaurants in Paerdegat Basin, Brooklyn:0\n",
      "['Brooklyn', 'Paerdegat Basin', 40.63131755039667, -73.90233474295836]\n",
      "( 263 / 306 ) Indian Restaurants in Mill Basin, Brooklyn:0\n",
      "['Brooklyn', 'Mill Basin', 40.61597423962336, -73.91515391550404]\n",
      "( 264 / 306 ) Indian Restaurants in Jamaica Hills, Queens:0\n",
      "['Queens', 'Jamaica Hills', 40.71145964370482, -73.79646462081593]\n",
      "( 265 / 306 ) Indian Restaurants in Utopia, Queens:0\n",
      "['Queens', 'Utopia', 40.73350025429757, -73.79671678028349]\n",
      "( 266 / 306 ) Indian Restaurants in Pomonok, Queens:0\n",
      "['Queens', 'Pomonok', 40.73493618075478, -73.80486120040537]\n",
      "( 267 / 306 ) Indian Restaurants in Astoria Heights, Queens:0\n",
      "['Queens', 'Astoria Heights', 40.7703173929982, -73.89467996270574]\n",
      "( 268 / 306 ) Indian Restaurants in Claremont Village, Bronx:0\n",
      "['Bronx', 'Claremont Village', 40.83142834161548, -73.90119903387667]\n",
      "( 269 / 306 ) Indian Restaurants in Concourse Village, Bronx:0\n",
      "['Bronx', 'Concourse Village', 40.824780490842905, -73.91584652759009]\n",
      "( 270 / 306 ) Indian Restaurants in Mount Eden, Bronx:0\n",
      "['Bronx', 'Mount Eden', 40.84382617671654, -73.91655551964419]\n",
      "( 271 / 306 ) Indian Restaurants in Mount Hope, Bronx:0\n",
      "['Bronx', 'Mount Hope', 40.84884160724665, -73.90829930881988]\n",
      "( 272 / 306 ) Indian Restaurants in Sutton Place, Manhattan:0\n",
      "['Manhattan', 'Sutton Place', 40.76028033131374, -73.96355614094303]\n",
      "( 273 / 306 ) Indian Restaurants in Hunters Point, Queens:0\n",
      "['Queens', 'Hunters Point', 40.743414090073536, -73.95386782130745]\n",
      "( 274 / 306 ) Indian Restaurants in Turtle Bay, Manhattan:0\n",
      "['Manhattan', 'Turtle Bay', 40.75204236950722, -73.96770824581834]\n",
      "( 275 / 306 ) Indian Restaurants in Tudor City, Manhattan:0\n",
      "['Manhattan', 'Tudor City', 40.746917410740195, -73.97121928722265]\n",
      "( 276 / 306 ) Indian Restaurants in Stuyvesant Town, Manhattan:0\n",
      "['Manhattan', 'Stuyvesant Town', 40.73099955477061, -73.97405170469203]\n",
      "( 277 / 306 ) Indian Restaurants in Flatiron, Manhattan:0\n",
      "['Manhattan', 'Flatiron', 40.739673047638426, -73.9909471052826]\n",
      "( 278 / 306 ) Indian Restaurants in Sunnyside Gardens, Queens:0\n",
      "['Queens', 'Sunnyside Gardens', 40.74565180608076, -73.91819286431682]\n",
      "( 279 / 306 ) Indian Restaurants in Blissville, Queens:0\n",
      "['Queens', 'Blissville', 40.73725071694497, -73.93244235260178]\n",
      "( 280 / 306 ) Indian Restaurants in Fulton Ferry, Brooklyn:0\n",
      "['Brooklyn', 'Fulton Ferry', 40.70328109093014, -73.99550751888415]\n",
      "( 281 / 306 ) Indian Restaurants in Vinegar Hill, Brooklyn:0\n",
      "['Brooklyn', 'Vinegar Hill', 40.70332149882874, -73.98111603592393]\n",
      "( 282 / 306 ) Indian Restaurants in Weeksville, Brooklyn:0\n",
      "['Brooklyn', 'Weeksville', 40.67503986503237, -73.93053108817338]\n",
      "( 283 / 306 ) Indian Restaurants in Broadway Junction, Brooklyn:0\n",
      "['Brooklyn', 'Broadway Junction', 40.67786104769531, -73.90331684852599]\n",
      "( 284 / 306 ) Indian Restaurants in Dumbo, Brooklyn:0\n",
      "['Brooklyn', 'Dumbo', 40.70317632822692, -73.9887528074504]\n",
      "( 285 / 306 ) Indian Restaurants in Manor Heights, Staten Island:0\n",
      "['Staten Island', 'Manor Heights', 40.60180957631444, -74.12059399718001]\n",
      "( 286 / 306 ) Indian Restaurants in Willowbrook, Staten Island:0\n",
      "['Staten Island', 'Willowbrook', 40.60370692627371, -74.13208447484298]\n",
      "( 287 / 306 ) Indian Restaurants in Sandy Ground, Staten Island:0\n",
      "['Staten Island', 'Sandy Ground', 40.541139922091766, -74.21776636068567]\n",
      "( 288 / 306 ) Indian Restaurants in Egbertville, Staten Island:0\n",
      "['Staten Island', 'Egbertville', 40.579118742961214, -74.12727240604946]\n",
      "( 289 / 306 ) Indian Restaurants in Roxbury, Queens:0\n",
      "['Queens', 'Roxbury', 40.56737588957032, -73.89213760232822]\n",
      "( 290 / 306 ) Indian Restaurants in Homecrest, Brooklyn:0\n",
      "['Brooklyn', 'Homecrest', 40.598525095137255, -73.95918459428702]\n",
      "( 291 / 306 ) Indian Restaurants in Middle Village, Queens:0\n",
      "['Queens', 'Middle Village', 40.716414511158185, -73.88114319200604]\n",
      "( 292 / 306 ) Indian Restaurants in Prince's Bay, Staten Island:0\n",
      "['Staten Island', \"Prince's Bay\", 40.52626406734812, -74.20152556457658]\n",
      "( 293 / 306 ) Indian Restaurants in Lighthouse Hill, Staten Island:0\n",
      "['Staten Island', 'Lighthouse Hill', 40.57650629379489, -74.13792663771568]\n",
      "( 294 / 306 ) Indian Restaurants in Richmond Valley, Staten Island:0\n",
      "['Staten Island', 'Richmond Valley', 40.51954145748909, -74.22957080626941]\n",
      "( 295 / 306 ) Indian Restaurants in Malba, Queens:0\n",
      "['Queens', 'Malba', 40.79060155670148, -73.82667757138641]\n",
      "( 296 / 306 ) Indian Restaurants in Highland Park, Brooklyn:0\n",
      "['Brooklyn', 'Highland Park', 40.6819989345173, -73.890345709872]\n",
      "( 297 / 306 ) Indian Restaurants in Madison, Brooklyn:0\n",
      "['Brooklyn', 'Madison', 40.60937770113766, -73.94841515328893]\n",
      "( 298 / 306 ) Indian Restaurants in Bronxdale, Bronx:0\n",
      "['Bronx', 'Bronxdale', 40.85272297633017, -73.86172577555115]\n",
      "( 299 / 306 ) Indian Restaurants in Allerton, Bronx:0\n",
      "['Bronx', 'Allerton', 40.86578787802982, -73.85931863221647]\n",
      "( 300 / 306 ) Indian Restaurants in Kingsbridge Heights, Bronx:0\n",
      "['Bronx', 'Kingsbridge Heights', 40.8703923914147, -73.90152264513144]\n",
      "( 301 / 306 ) Indian Restaurants in Erasmus, Brooklyn:0\n",
      "['Brooklyn', 'Erasmus', 40.64692606658579, -73.94817709920184]\n",
      "( 302 / 306 ) Indian Restaurants in Hudson Yards, Manhattan:0\n",
      "['Manhattan', 'Hudson Yards', 40.75665808227519, -74.00011136202637]\n",
      "( 303 / 306 ) Indian Restaurants in Hammels, Queens:0\n",
      "['Queens', 'Hammels', 40.58733774018741, -73.80553002968718]\n",
      "( 304 / 306 ) Indian Restaurants in Bayswater, Queens:0\n",
      "['Queens', 'Bayswater', 40.611321691283834, -73.76596781445627]\n",
      "( 305 / 306 ) Indian Restaurants in Queensbridge, Queens:0\n",
      "['Queens', 'Queensbridge', 40.756091297094706, -73.94563070334091]\n",
      "( 306 / 306 ) Indian Restaurants in Fox Hills, Staten Island:0\n",
      "['Staten Island', 'Fox Hills', 40.61731079252983, -74.08173992211962]\n"
     ]
    }
   ],
   "source": [
    "# dataframe that contains the indian restaurants\n",
    "# prepare neighborhood list that contains japanese restaurants\n",
    "column_names=['Borough', 'Neighborhood', 'ID','Name']\n",
    "ind_rest_ny=pd.DataFrame(columns=column_names)\n",
    "count=1\n",
    "for row in new_york.values.tolist():\n",
    "    Borough, Neighborhood, Latitude, Longitude=row\n",
    "    venues = venue(Latitude,Longitude)\n",
    "    ind_restaurants=venues[venues['Category']=='Indian Restaurants']   \n",
    "    print('(',count,'/',len(new_york),')','Indian Restaurants in '+Neighborhood+', '+Borough+':'+str(len(ind_restaurants)))\n",
    "    print(row)\n",
    "    for resturant_detail in ind_restaurants.values.tolist():\n",
    "        id, name , category=resturant_detail\n",
    "        ind_rest_ny = ind_rest_ny.append({'Borough': Borough,\n",
    "                                                'Neighborhood': Neighborhood, \n",
    "                                                'ID': id,\n",
    "                                                'Name' : name\n",
    "                                               }, ignore_index=True)\n",
    "    count+=1"
   ]
  },
  {
   "cell_type": "markdown",
   "metadata": {},
   "source": [
    "Saving the above printed details to a CSV"
   ]
  },
  {
   "cell_type": "code",
   "execution_count": 31,
   "metadata": {},
   "outputs": [
    {
     "ename": "NameError",
     "evalue": "name 'ind_res_ny' is not defined",
     "output_type": "error",
     "traceback": [
      "\u001b[1;31m---------------------------------------------------------------------------\u001b[0m",
      "\u001b[1;31mNameError\u001b[0m                                 Traceback (most recent call last)",
      "\u001b[1;32m<ipython-input-31-f682f8c6abd7>\u001b[0m in \u001b[0;36m<module>\u001b[1;34m\u001b[0m\n\u001b[1;32m----> 1\u001b[1;33m \u001b[0mres_csv\u001b[0m\u001b[1;33m=\u001b[0m\u001b[0mind_res_ny\u001b[0m\u001b[1;33m.\u001b[0m\u001b[0mto_csv\u001b[0m\u001b[1;33m(\u001b[0m\u001b[1;34m'IND_res_NY.csv'\u001b[0m\u001b[1;33m)\u001b[0m\u001b[1;33m\u001b[0m\u001b[1;33m\u001b[0m\u001b[0m\n\u001b[0m\u001b[0;32m      2\u001b[0m \u001b[0mres_csv\u001b[0m\u001b[1;33m\u001b[0m\u001b[1;33m\u001b[0m\u001b[0m\n",
      "\u001b[1;31mNameError\u001b[0m: name 'ind_res_ny' is not defined"
     ]
    }
   ],
   "source": [
    "res_csv=ind_res_ny.to_csv('IND_res_NY.csv')\n",
    "res_csv"
   ]
  },
  {
   "cell_type": "code",
   "execution_count": 42,
   "metadata": {},
   "outputs": [
    {
     "data": {
      "text/html": [
       "<div>\n",
       "<style scoped>\n",
       "    .dataframe tbody tr th:only-of-type {\n",
       "        vertical-align: middle;\n",
       "    }\n",
       "\n",
       "    .dataframe tbody tr th {\n",
       "        vertical-align: top;\n",
       "    }\n",
       "\n",
       "    .dataframe thead th {\n",
       "        text-align: right;\n",
       "    }\n",
       "</style>\n",
       "<table border=\"1\" class=\"dataframe\">\n",
       "  <thead>\n",
       "    <tr style=\"text-align: right;\">\n",
       "      <th></th>\n",
       "      <th>Unnamed: 0</th>\n",
       "      <th>Borough</th>\n",
       "      <th>Neighborhood</th>\n",
       "      <th>ID</th>\n",
       "      <th>Name</th>\n",
       "    </tr>\n",
       "  </thead>\n",
       "  <tbody>\n",
       "  </tbody>\n",
       "</table>\n",
       "</div>"
      ],
      "text/plain": [
       "Empty DataFrame\n",
       "Columns: [Unnamed: 0, Borough, Neighborhood, ID, Name]\n",
       "Index: []"
      ]
     },
     "execution_count": 42,
     "metadata": {},
     "output_type": "execute_result"
    }
   ],
   "source": [
    "IND_NY = pd.read_csv('IND_res_NY.csv')\n",
    "IND_NY.head()\n",
    "#IND_NY.tail()"
   ]
  },
  {
   "cell_type": "code",
   "execution_count": null,
   "metadata": {},
   "outputs": [],
   "source": [
    "indian_res_ny.shape"
   ]
  },
  {
   "cell_type": "markdown",
   "metadata": {},
   "source": [
    "This enables us to know that how many restaurants are in newyork on the basis of indian cusine."
   ]
  },
  {
   "cell_type": "code",
   "execution_count": null,
   "metadata": {},
   "outputs": [],
   "source": [
    "indian_res_ny.groupby('Borough')['ID'].count().plot.bar(figsize=(10,5), color=clr)\n",
    "plt.title('Indian Restaurants per Borough: NYC', fontsize = 20)\n",
    "plt.xlabel('Borough', fontsize = 15)\n",
    "plt.ylabel('No. of Indian Restaurants', fontsize=15)\n",
    "plt.xticks(rotation = 'horizontal')\n",
    "plt.legend()\n",
    "plt.show()"
   ]
  },
  {
   "cell_type": "markdown",
   "metadata": {},
   "source": [
    "This plots gives us many insights about how the indian restaurants are expanded in the region of NewYork. "
   ]
  },
  {
   "cell_type": "code",
   "execution_count": null,
   "metadata": {},
   "outputs": [],
   "source": [
    "indian_res_ny[indian_res_ny['Neighborhood']=='Fox Hills']"
   ]
  },
  {
   "cell_type": "markdown",
   "metadata": {},
   "source": [
    "So Fox Hillls in newyork has the heighest count of indian restaurants"
   ]
  },
  {
   "cell_type": "code",
   "execution_count": null,
   "metadata": {},
   "outputs": [],
   "source": [
    "column_names=['Borough', 'Neighborhood', 'ID','Name','Likes','Rating','Tips']\n",
    "indian_res_stats_ny=pd.DataFrame(columns=column_names)\n",
    "count=1\n",
    "for row in indian_res_ny.values.tolist():\n",
    "    Borough,Neighborhood,ID,Name=row\n",
    "    try:\n",
    "        venue_details=get_venue_details(ID)\n",
    "        print(venue_details)\n",
    "        id,name,likes,rating,tips=venue_details.values.tolist()[0]\n",
    "    except IndexError:\n",
    "        print('No data available for id=',ID)\n",
    "        id,name,likes,rating,tips=[0]*5\n",
    "    print('(',count,'/',len(indian_res_ny),')','processed')\n",
    "    indian_res_stats_ny = indian_res_stats_ny.append({'Borough': Borough,\n",
    "                                                'Neighborhood': Neighborhood, \n",
    "                                                'ID': id,\n",
    "                                                'Name' : name,\n",
    "                                                'Likes' : likes,\n",
    "                                                'Rating' : rating,\n",
    "                                                'Tips' : tips\n",
    "                                               }, ignore_index=True)\n",
    "    count+=1\n",
    "indian_res_stats_ny.tail()"
   ]
  },
  {
   "cell_type": "markdown",
   "metadata": {},
   "source": [
    "Now we got the Neighborhood,ID,Name,Likes,Ratings and Tips of each and every indian cusines in newyork."
   ]
  },
  {
   "cell_type": "code",
   "execution_count": null,
   "metadata": {},
   "outputs": [],
   "source": [
    "indian_res_stats_ny.to_csv('indian_res_stats_ny_csv.csv')"
   ]
  },
  {
   "cell_type": "code",
   "execution_count": null,
   "metadata": {},
   "outputs": [],
   "source": [
    "indian_res_stats_ny.shape"
   ]
  },
  {
   "cell_type": "markdown",
   "metadata": {},
   "source": [
    "Gives us the number of indian cusines which will add our insights in stats."
   ]
  },
  {
   "cell_type": "code",
   "execution_count": null,
   "metadata": {},
   "outputs": [],
   "source": [
    "indian_res_stats_ny.info()"
   ]
  },
  {
   "cell_type": "markdown",
   "metadata": {},
   "source": [
    "Below we are converting the values of likes and tipd to float since they are in string format"
   ]
  },
  {
   "cell_type": "code",
   "execution_count": null,
   "metadata": {},
   "outputs": [],
   "source": [
    "indian_res_stats_ny['Likes'] = indian_res_stats_ny['Likes'].astype('float64')\n",
    "indian_res_stats_ny['Tips'] = indian_res_stats_ny['Tips'].astype('float64')\n",
    "indian_res_stats_ny.info()"
   ]
  },
  {
   "cell_type": "markdown",
   "metadata": {},
   "source": [
    "#### STEP 7 Analyzing the indian cusine restaurants with the tips and ratings insight we got before "
   ]
  },
  {
   "cell_type": "code",
   "execution_count": null,
   "metadata": {},
   "outputs": [],
   "source": [
    "ny_neighborhood_stats=indian_res_stats_ny.groupby('Neighborhood',as_index=False).mean()[['Neighborhood','Rating']]\n",
    "ny_neighborhood_stats.columns=['Neighborhood','Average Rating']\n",
    "ny_neighborhood_stats.sort_values(['Average Rating'],ascending=False).head(10)"
   ]
  },
  {
   "cell_type": "code",
   "execution_count": null,
   "metadata": {},
   "outputs": [],
   "source": [
    "ny_borough_stats=indian_rest_stats_ny.groupby('Borough',as_index=False).mean()[['Borough','Rating']]\n",
    "ny_borough_stats.columns=['Borough','Average Rating']\n",
    "ny_borough_stats.sort_values(['Average Rating'],ascending=False).head()"
   ]
  },
  {
   "cell_type": "markdown",
   "metadata": {},
   "source": [
    "Plotting the graph for average rating of indian restaurants for each borogh in order visuvalize how customers have gave ratings."
   ]
  },
  {
   "cell_type": "code",
   "execution_count": null,
   "metadata": {},
   "outputs": [],
   "source": [
    "plt.figure(figsize=(9,5), dpi = 100)\n",
    "plt.title('Average rating of Indian Restaurants for each Borough')\n",
    "plt.xlabel('Borough', fontsize = 15)\n",
    "plt.ylabel('Average Rating', fontsize=15)\n",
    "indian_rest_stats_ny.groupby('Borough').mean()['Rating'].plot(kind='bar', color=clr)\n",
    "plt.legend()\n",
    "plt.show()"
   ]
  },
  {
   "cell_type": "markdown",
   "metadata": {},
   "source": [
    "Taking the average ratings which are above 8.0"
   ]
  },
  {
   "cell_type": "code",
   "execution_count": null,
   "metadata": {},
   "outputs": [],
   "source": [
    "ny_neighborhood_stats=ny_neighborhood_stats[ny_neighborhood_stats['Average Rating']>=8.0]\n",
    "ny_neighborhood_stats"
   ]
  },
  {
   "cell_type": "code",
   "execution_count": null,
   "metadata": {},
   "outputs": [],
   "source": [
    "ny_neighborhood_stats=pd.merge(ny_neighborhood_stats,ny_data, on='Neighborhood')\n",
    "ny_neighborhood_stats=ny_neighborhood_stats[['Borough','Neighborhood','Latitude','Longitude','Average Rating']]\n",
    "ny_neighborhood_stats"
   ]
  },
  {
   "cell_type": "markdown",
   "metadata": {},
   "source": [
    "Displays it with folium map inorder to get a great sight of visuvalization."
   ]
  },
  {
   "cell_type": "code",
   "execution_count": null,
   "metadata": {},
   "outputs": [],
   "source": [
    "# create map and display it\n",
    "ny_map = folium.Map(location=geo_location('New York'), zoom_start=12)\n",
    "# instantiate a feature group for the ratings in the dataframe\n",
    "rating = folium.map.FeatureGroup()\n",
    "\n",
    "# loop through the ratings and add each to the neighborhood feature group\n",
    "for lat, lng, in ny_neighborhood_stats[['Latitude','Longitude']].values:\n",
    "    rating.add_child(\n",
    "        folium.CircleMarker(\n",
    "            [lat, lng],\n",
    "            radius=10, # define how big you want the circle markers to be\n",
    "            color='red',\n",
    "            fill=True,\n",
    "            fill_color='green',\n",
    "            fill_opacity=0.6\n",
    "        )\n",
    "    )"
   ]
  },
  {
   "cell_type": "markdown",
   "metadata": {},
   "source": [
    "#### CONCLUSION"
   ]
  },
  {
   "cell_type": "markdown",
   "metadata": {},
   "source": [
    "After analysing all the way down we came to a conclusion that newyork is a good place to eat indian cuisines. More accuratelty Brooklyn is the best place to have indian cuisines as this place consist of more number of indian cuisines and also with good ratings.Many good ratings which are above 8.0 rating are situvated majorily in Brooklyn. Secondly manhattan is also a good place to eat indian cuisines as this place also have certain very good indian restaurants."
   ]
  }
 ],
 "metadata": {
  "kernelspec": {
   "display_name": "Python 3",
   "language": "python",
   "name": "python3"
  },
  "language_info": {
   "codemirror_mode": {
    "name": "ipython",
    "version": 3
   },
   "file_extension": ".py",
   "mimetype": "text/x-python",
   "name": "python",
   "nbconvert_exporter": "python",
   "pygments_lexer": "ipython3",
   "version": "3.7.6"
  }
 },
 "nbformat": 4,
 "nbformat_minor": 4
}
